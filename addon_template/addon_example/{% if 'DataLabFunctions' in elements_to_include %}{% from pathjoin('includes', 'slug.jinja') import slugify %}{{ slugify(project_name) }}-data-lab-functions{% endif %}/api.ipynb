{
 "cells": [
  {
   "cell_type": "code",
   "execution_count": null,
   "metadata": {},
   "outputs": [],
   "source": [
    "import my_datalab_functions_example\n",
    "from logging import Logger\n",
    "from seeq import spy\n",
    "from typing import Any\n",
    "REQUEST: Any\n",
    "LOG: Logger"
   ]
  },
  {
   "cell_type": "code",
   "execution_count": null,
   "metadata": {},
   "outputs": [],
   "source": [
    "# This is a Data Lab Functions context cell since it is not annotated as a REST endpoint. Its contents will be executed only once, which is when the kernel is first executed.\n",
    "from datetime import datetime\n",
    "executed_timestmap = datetime.now()"
   ]
  },
  {
   "cell_type": "code",
   "execution_count": null,
   "metadata": {},
   "outputs": [],
   "source": [
    "# GET /hello\n",
    "#\n",
    "# Visit https://<my-seeq-server>/data-lab/<project-id>/functions/notebooks/api/endpoints/hello\n",
    "\n",
    "{\n",
    "    \"message\": f\"Hello, from Data Lab!! This kernel was initially executed at {executed_timestmap}.\"\n",
    "}"
   ]
  },
  {
   "cell_type": "code",
   "execution_count": null,
   "metadata": {},
   "outputs": [],
   "source": [
    "# GET /version\n",
    "#\n",
    "# Visit https://<my-seeq-server>/data-lab/<project-id>/functions/notebooks/api/endpoints/version\n",
    "\n",
    "{\n",
    "    \"version\": spy.server_version\n",
    "}"
   ]
  },
  {
   "cell_type": "code",
   "execution_count": null,
   "metadata": {},
   "outputs": [],
   "source": [
    "# GET /view-querystring\n",
    "#\n",
    "# Visit https://<my-seeq-server>/data-lab/<project-id>/functions/notebooks/api/endpoints/view-querystring?id=5&name=Seeq\n",
    "\n",
    "REQUEST['args']"
   ]
  },
  {
   "cell_type": "code",
   "execution_count": null,
   "metadata": {},
   "outputs": [],
   "source": [
    "# POST /view-payload\n",
    "#\n",
    "# Using an API client such as Postman, send a POST request with the following body to https://<my-seeq-server>/data-lab/<project-id>/functions/notebooks/api/endpoints/view-payload\n",
    "# {\"message\": \"This is my Data Lab Functions POST request!\"}\n",
    "\n",
    "REQUEST['body']"
   ]
  },
  {
   "cell_type": "code",
   "execution_count": null,
   "metadata": {},
   "outputs": [],
   "source": [
    "# POST /combine\n",
    "#\n",
    "# Using an API client such as Postman, send a POST request with the following body to https://<my-seeq-server>/data-lab/<project-id>/functions/notebooks/api/endpoints/combine\n",
    "# {\"idA\": \"<itemIdA>\", \"idB\": \"<itemIdB>\", \"op\": \"+\", \"workbookId\": \"<workbookId>\", \"worksheetId\": \"<worksheetId>\"}\n",
    "#\n",
    "# Then view the logs by visting https://<my-seeq-server>/data-lab/<project-id>/functions/logs\n",
    "\n",
    "import pandas as pd\n",
    "\n",
    "# Get params from request body\n",
    "idA = REQUEST['body']['idA']\n",
    "idB = REQUEST['body']['idB']\n",
    "op = REQUEST['body']['op']\n",
    "workbook_id = REQUEST['body']['workbookId']\n",
    "worksheet_id = REQUEST['body']['worksheetId']\n",
    "\n",
    "# Create the formula to add the two signals\n",
    "metadata = pd.DataFrame([{\n",
    "    'Name': f'Combined Signal',\n",
    "    'Formula': f\"$signalA.setUnits('') {op} $signalB.setUnits('')\",\n",
    "    'Formula Parameters': {\n",
    "        'signalA': idA,\n",
    "        'signalB': idB\n",
    "    },\n",
    "    'Type': 'Formula'\n",
    "}])\n",
    "\n",
    "# Push the formula to Seeq\n",
    "LOG.info(f\"Pushing formula for 'Combined Signal' to workbook {workbook_id}\")\n",
    "combined_signal = spy.push(workbook=workbook_id, metadata=metadata)\n",
    "\n",
    "# Get the current worksheet\n",
    "workbook = spy.workbooks.pull(workbook_id)[0]\n",
    "worksheet = next((ws for ws in workbook.worksheets if ws.id == worksheet_id), None)\n",
    "\n",
    "# Add the combined signal if it's not already displayed on the worksheet\n",
    "combined_signal_id = combined_signal['ID'].values[0]\n",
    "if combined_signal_id not in worksheet.display_items['ID'].values:\n",
    "    LOG.info(f\"Adding signal {combined_signal_id} to worksheet {worksheet_id}\")\n",
    "    worksheet.display_items = pd.concat([worksheet.display_items, combined_signal]).reset_index()\n",
    "\n",
    "# Push the updated worksheet back to Seeq\n",
    "LOG.info(f\"Updating worksheet {worksheet_id} in workbook {workbook_id}\")\n",
    "results = spy.workbooks.push(workbook)\n",
    "results.to_json()"
   ]
  },
  {
   "cell_type": "code",
   "execution_count": null,
   "metadata": {},
   "outputs": [],
   "source": [
    "# POST /module-example/combine\n",
    "#\n",
    "# To develop Data Lab Functions as a traditional Python module implementation, move your API endpoit logic to a Python module structure and invoke the desired module method while passing in the REQUEST object\n",
    "#\n",
    "# Using an API client such as Postman, send a POST request with the following body to https://<my-seeq-server>/data-lab/<project-id>/functions/notebooks/api/endpoints/module-example/combine\n",
    "# {\"idA\": \"<itemIdA>\", \"idB\": \"<itemIdB>\", \"op\": \"+\", \"workbookId\": \"<workbookId>\", \"worksheetId\": \"<worksheetId>\"}\n",
    "#\n",
    "# Then view the logs by visting https://<my-seeq-server>/data-lab/<project-id>/functions/logs\n",
    "\n",
    "my_datalab_functions_example.api.combine(REQUEST, LOG)"
   ]
  }
 ],
 "metadata": {
  "language_info": {
   "name": "python"
  }
 },
 "nbformat": 4,
 "nbformat_minor": 2
}
