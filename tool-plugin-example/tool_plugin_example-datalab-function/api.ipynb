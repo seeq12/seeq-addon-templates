{
 "cells": [
  {
   "cell_type": "code",
   "execution_count": null,
   "metadata": {},
   "outputs": [],
   "source": [
    "# POST /combine\n",
    "\n",
    "import pandas as pd\n",
    "\n",
    "# idA = \"0EF6564F-535E-6660-BB4B-B8BEC4CC9236\"\n",
    "# idB = \"0EF07E06-6C61-7120-A431-CF6973583BC3\"\n",
    "# op = \"+\"\n",
    "# workbook_id = \"0EF5FE4C-67A2-62D0-9752-BB9667D7E30B\"\n",
    "# worksheet_id = \"0EF5FE4C-6B7C-E810-9710-6EBDA5E189C9\"\n",
    "\n",
    "# Get params from request body\n",
    "idA = REQUEST['body']['idA']\n",
    "idB = REQUEST['body']['idB']\n",
    "op = REQUEST['body']['op']\n",
    "workbook_id = REQUEST['body']['workbookId']\n",
    "worksheet_id = REQUEST['body']['worksheetId']\n",
    "\n",
    "# Step 2: Create the formula to add the two signals\n",
    "metadata = pd.DataFrame([{\n",
    "    'Name': 'Summed Signal',\n",
    "    'Formula': f\"$signalA.setUnits('') {op} $signalB.setUnits('')\",\n",
    "    'Formula Parameters': {\n",
    "        'signalA': idA,\n",
    "        'signalB': idB\n",
    "    },\n",
    "    'Type': 'Formula'\n",
    "}])\n",
    "\n",
    "# Step 3: Push the formula to Seeq\n",
    "result = spy.push(\n",
    "    workbook=workbook_id,\n",
    "    metadata=metadata\n",
    ")\n",
    "\n",
    "# Extract the ID of the new signal\n",
    "new_signal_id = result['ID'].values[0]\n",
    "\n",
    "# Get the current worksheet\n",
    "workbook = spy.workbooks.pull(workbook_id)[0]\n",
    "worksheet = next((ws for ws in workbook.worksheets if ws.id == worksheet_id), None)\n",
    "\n",
    "# Add the new signal to the worksheet's details pane\n",
    "# worksheet.display_items.append({\n",
    "#     'ID': new_signal_id,\n",
    "#     'Type': 'Signal'\n",
    "# })\n",
    "worksheet.display_items = pd.concat([worksheet.display_items, result]).reset_index()\n",
    "\n",
    "# Push the updated worksheet back to Seeq\n",
    "spy.workbooks.push(workbook)"
   ]
  }
 ],
 "metadata": {
  "language_info": {
   "name": "python"
  }
 },
 "nbformat": 4,
 "nbformat_minor": 2
}
