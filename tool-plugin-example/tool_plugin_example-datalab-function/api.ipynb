{
 "cells": [
  {
   "cell_type": "code",
   "execution_count": null,
   "metadata": {},
   "outputs": [],
   "source": [
    "# POST /combine\n",
    "\n",
    "import pandas as pd\n",
    "\n",
    "# Get params from request body\n",
    "idA = REQUEST['body']['idA']\n",
    "idB = REQUEST['body']['idB']\n",
    "op = REQUEST['body']['op']\n",
    "workbook_id = REQUEST['body']['workbookId']\n",
    "worksheet_id = REQUEST['body']['worksheetId']\n",
    "\n",
    "# Create the formula to add the two signals\n",
    "metadata = pd.DataFrame([{\n",
    "    'Name': f'Combined Signal',\n",
    "    'Formula': f\"$signalA.setUnits('') {op} $signalB.setUnits('')\",\n",
    "    'Formula Parameters': {\n",
    "        'signalA': idA,\n",
    "        'signalB': idB\n",
    "    },\n",
    "    'Type': 'Formula'\n",
    "}])\n",
    "\n",
    "# Push the formula to Seeq\n",
    "combined_signal = spy.push(workbook=workbook_id, metadata=metadata)\n",
    "\n",
    "# Get the current worksheet\n",
    "workbook = spy.workbooks.pull(workbook_id)[0]\n",
    "worksheet = next((ws for ws in workbook.worksheets if ws.id == worksheet_id), None)\n",
    "\n",
    "# Add the combined signal if it's not already displayed on the worksheet\n",
    "combined_signal_id = combined_signal['ID'].values[0]\n",
    "if combined_signal_id not in worksheet.display_items['ID'].values:\n",
    "    worksheet.display_items = pd.concat([worksheet.display_items, combined_signal]).reset_index()\n",
    "\n",
    "# Push the updated worksheet back to Seeq\n",
    "spy.workbooks.push(workbook)"
   ]
  }
 ],
 "metadata": {
  "language_info": {
   "name": "python"
  }
 },
 "nbformat": 4,
 "nbformat_minor": 2
}
