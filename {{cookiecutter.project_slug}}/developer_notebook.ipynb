{
 "cells": [
  {
   "cell_type": "code",
   "execution_count": 1,
   "metadata": {
    "pycharm": {
     "name": "#%%\n"
    }
   },
   "outputs": [],
   "source": [
    "from seeq.addons import {{cookiecutter.project_name}}\n",
    "from seeq import spy"
   ]
  },
  {
   "cell_type": "code",
   "execution_count": 2,
   "metadata": {
    "pycharm": {
     "name": "#%%\n"
    }
   },
   "outputs": [
    {
     "data": {
      "text/html": [
       "<div style=\"background-color: #EEFFEE;text-align: left;\">Logged in to <strong>http://localhost:34216</strong> successfully as <strong>alberto.rivas@seeq.com (Alberto Rivas [Admin])</strong>.<br>Seeq Server Version: <strong>R53.4.4-SNAPSHOT</strong><br>Seeq Python Module Version: <strong>53.4.4.183.0</strong></div>"
      ],
      "text/plain": [
       "<IPython.core.display.HTML object>"
      ]
     },
     "metadata": {},
     "output_type": "display_data"
    }
   ],
   "source": [
    "# Log in to spy\n",
    "spy.login(url='http://localhost:34216', username='user@seeq.com', password='*******', ignore_ssl_errors=True)"
   ]
  },
  {
   "cell_type": "code",
   "execution_count": 3,
   "metadata": {
    "pycharm": {
     "name": "#%%\n"
    }
   },
   "outputs": [],
   "source": [
    "# Get an Analysis Worksheet URL with some loaded signals in TrendView\n",
    "# For example:\n",
    "worksheet_url = 'http://localhost:34216/workbook/365566F0-C416-4FE3-950D-AE8B8E1FCD53/worksheet/00003D6E-1F75-4624-B48E-B4D891796840'"
   ]
  },
  {
   "cell_type": "code",
   "execution_count": 4,
   "metadata": {
    "pycharm": {
     "name": "#%%\n"
    }
   },
   "outputs": [
    {
     "name": "stdout",
     "output_type": "stream",
     "text": [
      "CPU times: user 671 ms, sys: 81.6 ms, total: 753 ms\n",
      "Wall time: 1.03 s\n"
     ]
    },
    {
     "data": {
      "application/vnd.jupyter.widget-view+json": {
       "model_id": "2f49a81633a7475bb9d0ee62cae4f5cb",
       "version_major": 2,
       "version_minor": 0
      },
      "text/plain": [
       "{{cookiecutter.demo_addon_class}}(components={'hamburger-menu': HamburgerMenu(template=Template(template='<template>\\n  <v-menu\\n      l…"
      ]
     },
     "metadata": {},
     "output_type": "display_data"
    }
   ],
   "source": [
    "%%time\n",
    "# Or run the GUI\n",
    "notebook = f'{spy.utils.get_data_lab_project_url()}/dummy.ipynb?workbookId={spy.utils.get_workbook_id_from_url(worksheet_url)}&worksheetId={spy.utils.get_worksheet_id_from_url(worksheet_url)}'\n",
    "C = {{cookiecutter.project_name}}.{{cookiecutter.demo_addon_class}}(sdl_notebook_url=notebook)  #sdl_notebook_url=jupyter_notebook_url\n",
    "C.run()"
   ]
  }
 ],
 "metadata": {
  "kernelspec": {
   "display_name": "Python 3 (ipykernel)",
   "language": "python",
   "name": "python3"
  },
  "language_info": {
   "codemirror_mode": {
    "name": "ipython",
    "version": 3
   },
   "file_extension": ".py",
   "mimetype": "text/x-python",
   "name": "python",
   "nbconvert_exporter": "python",
   "pygments_lexer": "ipython3",
   "version": "3.8.12"
  },
  "varInspector": {
   "cols": {
    "lenName": 16,
    "lenType": 16,
    "lenVar": 40
   },
   "kernels_config": {
    "python": {
     "delete_cmd_postfix": "",
     "delete_cmd_prefix": "del ",
     "library": "var_list.py",
     "varRefreshCmd": "print(var_dic_list())"
    },
    "r": {
     "delete_cmd_postfix": ") ",
     "delete_cmd_prefix": "rm(",
     "library": "var_list.r",
     "varRefreshCmd": "cat(var_dic_list()) "
    }
   },
   "types_to_exclude": [
    "module",
    "function",
    "builtin_function_or_method",
    "instance",
    "_Feature"
   ],
   "window_display": false
  }
 },
 "nbformat": 4,
 "nbformat_minor": 1
}